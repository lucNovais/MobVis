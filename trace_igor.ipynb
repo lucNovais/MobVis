{
 "cells": [
  {
   "cell_type": "code",
   "execution_count": 1,
   "id": "0a388cd2-c010-488b-a947-1240f2069600",
   "metadata": {},
   "outputs": [],
   "source": [
    "import pandas as pd\n",
    "\n",
    "from mobvis.preprocessing.parser import Parser as par"
   ]
  },
  {
   "cell_type": "code",
   "execution_count": 2,
   "id": "265838ef-8363-46dd-9fbe-43e16863bcef",
   "metadata": {},
   "outputs": [],
   "source": [
    "trace = pd.read_excel('Dados.xlsx')"
   ]
  },
  {
   "cell_type": "code",
   "execution_count": 3,
   "id": "e11d0e15-fff2-4fee-8558-3c40f7dc1d22",
   "metadata": {},
   "outputs": [
    {
     "data": {
      "text/html": [
       "<div>\n",
       "<style scoped>\n",
       "    .dataframe tbody tr th:only-of-type {\n",
       "        vertical-align: middle;\n",
       "    }\n",
       "\n",
       "    .dataframe tbody tr th {\n",
       "        vertical-align: top;\n",
       "    }\n",
       "\n",
       "    .dataframe thead th {\n",
       "        text-align: right;\n",
       "    }\n",
       "</style>\n",
       "<table border=\"1\" class=\"dataframe\">\n",
       "  <thead>\n",
       "    <tr style=\"text-align: right;\">\n",
       "      <th></th>\n",
       "      <th>GPS_Time</th>\n",
       "      <th>Device_Time</th>\n",
       "      <th>Longitude</th>\n",
       "      <th>Latitude</th>\n",
       "      <th>GPS_Speed_(Meters/second)</th>\n",
       "      <th>Horizontal_Dilution_of_Precision</th>\n",
       "      <th>Altitude</th>\n",
       "      <th>Bearing</th>\n",
       "      <th>G(x)</th>\n",
       "      <th>G(y)</th>\n",
       "      <th>...</th>\n",
       "      <th>Volumetric_Efficiency(Calculated)(%)</th>\n",
       "      <th>id</th>\n",
       "      <th>scenario</th>\n",
       "      <th>driver</th>\n",
       "      <th>vehicle</th>\n",
       "      <th>hour</th>\n",
       "      <th>heremaps_speed</th>\n",
       "      <th>heremaps_speeduncapped</th>\n",
       "      <th>heremaps_freeflow</th>\n",
       "      <th>heremaps_jamfactor</th>\n",
       "    </tr>\n",
       "  </thead>\n",
       "  <tbody>\n",
       "    <tr>\n",
       "      <th>0</th>\n",
       "      <td>Thu Mar 10 17:40:13 GMT-03:00 2022</td>\n",
       "      <td>44630.7362581829</td>\n",
       "      <td>-43.2315183333</td>\n",
       "      <td>-19.62668</td>\n",
       "      <td>0.0</td>\n",
       "      <td>1.1000000238</td>\n",
       "      <td>738.2</td>\n",
       "      <td>154.3500061035</td>\n",
       "      <td>-0.10</td>\n",
       "      <td>6.15</td>\n",
       "      <td>...</td>\n",
       "      <td>-</td>\n",
       "      <td>1</td>\n",
       "      <td>1</td>\n",
       "      <td>1</td>\n",
       "      <td>1</td>\n",
       "      <td>17:40:12.707000</td>\n",
       "      <td>25.24</td>\n",
       "      <td>25.24</td>\n",
       "      <td>31.66</td>\n",
       "      <td>7.17484</td>\n",
       "    </tr>\n",
       "    <tr>\n",
       "      <th>1</th>\n",
       "      <td>Thu Mar 10 17:40:14 GMT-03:00 2022</td>\n",
       "      <td>44630.7362697454</td>\n",
       "      <td>-43.2315183333</td>\n",
       "      <td>-19.62668</td>\n",
       "      <td>0.0</td>\n",
       "      <td>1.1000000238</td>\n",
       "      <td>738.2</td>\n",
       "      <td>154.3500061035</td>\n",
       "      <td>-1.62</td>\n",
       "      <td>6.30</td>\n",
       "      <td>...</td>\n",
       "      <td>-</td>\n",
       "      <td>1</td>\n",
       "      <td>1</td>\n",
       "      <td>1</td>\n",
       "      <td>1</td>\n",
       "      <td>17:40:13.706000</td>\n",
       "      <td>25.24</td>\n",
       "      <td>25.24</td>\n",
       "      <td>31.66</td>\n",
       "      <td>7.17484</td>\n",
       "    </tr>\n",
       "    <tr>\n",
       "      <th>2</th>\n",
       "      <td>Thu Mar 10 17:40:15 GMT-03:00 2022</td>\n",
       "      <td>44630.7362813079</td>\n",
       "      <td>-43.2315183333</td>\n",
       "      <td>-19.62668</td>\n",
       "      <td>0.0</td>\n",
       "      <td>1.2999999523</td>\n",
       "      <td>738.2</td>\n",
       "      <td>154.3500061035</td>\n",
       "      <td>-2.37</td>\n",
       "      <td>6.37</td>\n",
       "      <td>...</td>\n",
       "      <td>-</td>\n",
       "      <td>1</td>\n",
       "      <td>1</td>\n",
       "      <td>1</td>\n",
       "      <td>1</td>\n",
       "      <td>17:40:14.705000</td>\n",
       "      <td>25.24</td>\n",
       "      <td>25.24</td>\n",
       "      <td>31.66</td>\n",
       "      <td>7.17484</td>\n",
       "    </tr>\n",
       "    <tr>\n",
       "      <th>3</th>\n",
       "      <td>Thu Mar 10 17:40:16 GMT-03:00 2022</td>\n",
       "      <td>44630.7362929167</td>\n",
       "      <td>-43.2315183333</td>\n",
       "      <td>-19.62668</td>\n",
       "      <td>0.0</td>\n",
       "      <td>1.3999999762</td>\n",
       "      <td>738.2</td>\n",
       "      <td>154.3500061035</td>\n",
       "      <td>-2.15</td>\n",
       "      <td>6.72</td>\n",
       "      <td>...</td>\n",
       "      <td>-</td>\n",
       "      <td>1</td>\n",
       "      <td>1</td>\n",
       "      <td>1</td>\n",
       "      <td>1</td>\n",
       "      <td>17:40:15.708000</td>\n",
       "      <td>25.24</td>\n",
       "      <td>25.24</td>\n",
       "      <td>31.66</td>\n",
       "      <td>7.17484</td>\n",
       "    </tr>\n",
       "    <tr>\n",
       "      <th>4</th>\n",
       "      <td>Thu Mar 10 17:40:17 GMT-03:00 2022</td>\n",
       "      <td>44630.7363044560</td>\n",
       "      <td>-43.2315183333</td>\n",
       "      <td>-19.62668</td>\n",
       "      <td>0.0</td>\n",
       "      <td>1.5000000000</td>\n",
       "      <td>738.2</td>\n",
       "      <td>154.3500061035</td>\n",
       "      <td>-2.30</td>\n",
       "      <td>6.71</td>\n",
       "      <td>...</td>\n",
       "      <td>-</td>\n",
       "      <td>1</td>\n",
       "      <td>1</td>\n",
       "      <td>1</td>\n",
       "      <td>1</td>\n",
       "      <td>17:40:16.705000</td>\n",
       "      <td>25.24</td>\n",
       "      <td>25.24</td>\n",
       "      <td>31.66</td>\n",
       "      <td>7.17484</td>\n",
       "    </tr>\n",
       "  </tbody>\n",
       "</table>\n",
       "<p>5 rows × 128 columns</p>\n",
       "</div>"
      ],
      "text/plain": [
       "                             GPS_Time       Device_Time      Longitude  \\\n",
       "0  Thu Mar 10 17:40:13 GMT-03:00 2022  44630.7362581829 -43.2315183333   \n",
       "1  Thu Mar 10 17:40:14 GMT-03:00 2022  44630.7362697454 -43.2315183333   \n",
       "2  Thu Mar 10 17:40:15 GMT-03:00 2022  44630.7362813079 -43.2315183333   \n",
       "3  Thu Mar 10 17:40:16 GMT-03:00 2022  44630.7362929167 -43.2315183333   \n",
       "4  Thu Mar 10 17:40:17 GMT-03:00 2022  44630.7363044560 -43.2315183333   \n",
       "\n",
       "   Latitude  GPS_Speed_(Meters/second)  Horizontal_Dilution_of_Precision  \\\n",
       "0 -19.62668                        0.0                      1.1000000238   \n",
       "1 -19.62668                        0.0                      1.1000000238   \n",
       "2 -19.62668                        0.0                      1.2999999523   \n",
       "3 -19.62668                        0.0                      1.3999999762   \n",
       "4 -19.62668                        0.0                      1.5000000000   \n",
       "\n",
       "   Altitude         Bearing  G(x)  G(y)  ...  \\\n",
       "0     738.2  154.3500061035 -0.10  6.15  ...   \n",
       "1     738.2  154.3500061035 -1.62  6.30  ...   \n",
       "2     738.2  154.3500061035 -2.37  6.37  ...   \n",
       "3     738.2  154.3500061035 -2.15  6.72  ...   \n",
       "4     738.2  154.3500061035 -2.30  6.71  ...   \n",
       "\n",
       "   Volumetric_Efficiency(Calculated)(%)  id scenario driver vehicle  \\\n",
       "0                                     -   1        1      1       1   \n",
       "1                                     -   1        1      1       1   \n",
       "2                                     -   1        1      1       1   \n",
       "3                                     -   1        1      1       1   \n",
       "4                                     -   1        1      1       1   \n",
       "\n",
       "              hour heremaps_speed heremaps_speeduncapped heremaps_freeflow  \\\n",
       "0  17:40:12.707000          25.24                  25.24             31.66   \n",
       "1  17:40:13.706000          25.24                  25.24             31.66   \n",
       "2  17:40:14.705000          25.24                  25.24             31.66   \n",
       "3  17:40:15.708000          25.24                  25.24             31.66   \n",
       "4  17:40:16.705000          25.24                  25.24             31.66   \n",
       "\n",
       "  heremaps_jamfactor  \n",
       "0            7.17484  \n",
       "1            7.17484  \n",
       "2            7.17484  \n",
       "3            7.17484  \n",
       "4            7.17484  \n",
       "\n",
       "[5 rows x 128 columns]"
      ]
     },
     "execution_count": 3,
     "metadata": {},
     "output_type": "execute_result"
    }
   ],
   "source": [
    "trace.head()"
   ]
  },
  {
   "cell_type": "code",
   "execution_count": 4,
   "id": "8050fcd3-a2e1-423b-8e08-7f2b690c5150",
   "metadata": {},
   "outputs": [
    {
     "data": {
      "text/plain": [
       "Index(['GPS_Time', 'Device_Time', 'Longitude', 'Latitude',\n",
       "       'GPS_Speed_(Meters/second)', 'Horizontal_Dilution_of_Precision',\n",
       "       'Altitude', 'Bearing', 'G(x)', 'G(y)',\n",
       "       ...\n",
       "       'Volumetric_Efficiency(Calculated)(%)', 'id', 'scenario', 'driver',\n",
       "       'vehicle', 'hour', 'heremaps_speed', 'heremaps_speeduncapped',\n",
       "       'heremaps_freeflow', 'heremaps_jamfactor'],\n",
       "      dtype='object', length=128)"
      ]
     },
     "execution_count": 4,
     "metadata": {},
     "output_type": "execute_result"
    }
   ],
   "source": [
    "trace.columns"
   ]
  },
  {
   "cell_type": "code",
   "execution_count": 5,
   "id": "393d736e-2bbe-4e64-a2a5-d15aa37e7e61",
   "metadata": {},
   "outputs": [
    {
     "name": "stdout",
     "output_type": "stream",
     "text": [
      "Index(['gps_time', 'device_time', 'longitude', 'latitude',\n",
      "       'gps_speed_(meters/second)', 'horizontal_dilution_of_precision',\n",
      "       'altitude', 'bearing', 'g(x)', 'g(y)',\n",
      "       ...\n",
      "       'volumetric_efficiency(calculated)(%)', 'id', 'scenario', 'driver',\n",
      "       'vehicle', 'hour', 'heremaps_speed', 'heremaps_speeduncapped',\n",
      "       'heremaps_freeflow', 'heremaps_jamfactor'],\n",
      "      dtype='object', length=128)\n",
      "Index(['gps_time', 'longitude', 'latitude', 'id'], dtype='object')\n"
     ]
    }
   ],
   "source": [
    "SUPPORTED_TIMESTAMPS = [\n",
    "    'datetime',\n",
    "    'date',\n",
    "    'time',\n",
    "    'gps_time'\n",
    "]\n",
    "\n",
    "SUPPORTED_COORDINATES = [\n",
    "    'lat',\n",
    "    'lng',\n",
    "    'long',\n",
    "    'latitude',\n",
    "    'longitude'\n",
    "]\n",
    "\n",
    "SUPPORTED_IDENTIFIERS = [\n",
    "    'i',\n",
    "    'id',\n",
    "    'identifier',\n",
    "    'uid',\n",
    "    'node_id'\n",
    "]\n",
    "\n",
    "COLUMNS_FILTER = SUPPORTED_TIMESTAMPS + SUPPORTED_COORDINATES + SUPPORTED_IDENTIFIERS\n",
    "\n",
    "# print(trace.columns.intersection(COLUMNS_FILTER))\n",
    "# print([column.lower() for column in trace.columns])\n",
    "\n",
    "trace.columns = map(str.lower, trace.columns)\n",
    "print(trace.columns)\n",
    "print(trace.columns.intersection(COLUMNS_FILTER))"
   ]
  },
  {
   "cell_type": "code",
   "execution_count": 6,
   "id": "0cb9f300-94e4-41f0-bfd7-09e2e3a2ddee",
   "metadata": {},
   "outputs": [
    {
     "data": {
      "text/html": [
       "<div>\n",
       "<style scoped>\n",
       "    .dataframe tbody tr th:only-of-type {\n",
       "        vertical-align: middle;\n",
       "    }\n",
       "\n",
       "    .dataframe tbody tr th {\n",
       "        vertical-align: top;\n",
       "    }\n",
       "\n",
       "    .dataframe thead th {\n",
       "        text-align: right;\n",
       "    }\n",
       "</style>\n",
       "<table border=\"1\" class=\"dataframe\">\n",
       "  <thead>\n",
       "    <tr style=\"text-align: right;\">\n",
       "      <th></th>\n",
       "      <th>gps_time</th>\n",
       "      <th>longitude</th>\n",
       "      <th>latitude</th>\n",
       "      <th>id</th>\n",
       "    </tr>\n",
       "  </thead>\n",
       "  <tbody>\n",
       "    <tr>\n",
       "      <th>0</th>\n",
       "      <td>Thu Mar 10 17:40:13 GMT-03:00 2022</td>\n",
       "      <td>-43.2315183333</td>\n",
       "      <td>-19.62668</td>\n",
       "      <td>1</td>\n",
       "    </tr>\n",
       "    <tr>\n",
       "      <th>1</th>\n",
       "      <td>Thu Mar 10 17:40:14 GMT-03:00 2022</td>\n",
       "      <td>-43.2315183333</td>\n",
       "      <td>-19.62668</td>\n",
       "      <td>1</td>\n",
       "    </tr>\n",
       "    <tr>\n",
       "      <th>2</th>\n",
       "      <td>Thu Mar 10 17:40:15 GMT-03:00 2022</td>\n",
       "      <td>-43.2315183333</td>\n",
       "      <td>-19.62668</td>\n",
       "      <td>1</td>\n",
       "    </tr>\n",
       "    <tr>\n",
       "      <th>3</th>\n",
       "      <td>Thu Mar 10 17:40:16 GMT-03:00 2022</td>\n",
       "      <td>-43.2315183333</td>\n",
       "      <td>-19.62668</td>\n",
       "      <td>1</td>\n",
       "    </tr>\n",
       "    <tr>\n",
       "      <th>4</th>\n",
       "      <td>Thu Mar 10 17:40:17 GMT-03:00 2022</td>\n",
       "      <td>-43.2315183333</td>\n",
       "      <td>-19.62668</td>\n",
       "      <td>1</td>\n",
       "    </tr>\n",
       "  </tbody>\n",
       "</table>\n",
       "</div>"
      ],
      "text/plain": [
       "                             gps_time      longitude  latitude  id\n",
       "0  Thu Mar 10 17:40:13 GMT-03:00 2022 -43.2315183333 -19.62668   1\n",
       "1  Thu Mar 10 17:40:14 GMT-03:00 2022 -43.2315183333 -19.62668   1\n",
       "2  Thu Mar 10 17:40:15 GMT-03:00 2022 -43.2315183333 -19.62668   1\n",
       "3  Thu Mar 10 17:40:16 GMT-03:00 2022 -43.2315183333 -19.62668   1\n",
       "4  Thu Mar 10 17:40:17 GMT-03:00 2022 -43.2315183333 -19.62668   1"
      ]
     },
     "execution_count": 6,
     "metadata": {},
     "output_type": "execute_result"
    }
   ],
   "source": [
    "trace = trace[trace.columns.intersection(COLUMNS_FILTER)]\n",
    "\n",
    "trace.head()"
   ]
  },
  {
   "cell_type": "code",
   "execution_count": 14,
   "id": "def16f47-7dc9-47d8-ba87-937edf9e5e4f",
   "metadata": {},
   "outputs": [],
   "source": [
    "date = trace['gps_time'][0]"
   ]
  },
  {
   "cell_type": "code",
   "execution_count": 15,
   "id": "681e3d32-9155-4748-8cb3-472a07a2d284",
   "metadata": {},
   "outputs": [
    {
     "data": {
      "text/plain": [
       "'Thu Mar 10 17:40:13 GMT-03:00 2022'"
      ]
     },
     "execution_count": 15,
     "metadata": {},
     "output_type": "execute_result"
    }
   ],
   "source": [
    "date"
   ]
  },
  {
   "cell_type": "code",
   "execution_count": 25,
   "id": "7d3e2039-5785-45a6-8abc-f16b06d653c8",
   "metadata": {},
   "outputs": [
    {
     "data": {
      "text/plain": [
       "datetime.datetime(2022, 3, 10, 17, 40, 13, tzinfo=tzoffset(None, 10800))"
      ]
     },
     "execution_count": 25,
     "metadata": {},
     "output_type": "execute_result"
    }
   ],
   "source": [
    "import dateutil.parser as dparser\n",
    "\n",
    "mydate = dparser.parse(date)\n",
    "mydate"
   ]
  },
  {
   "cell_type": "code",
   "execution_count": 26,
   "id": "73bd5c6e-74a5-405b-bc3b-0798f97a6bbb",
   "metadata": {},
   "outputs": [
    {
     "name": "stdout",
     "output_type": "stream",
     "text": [
      "True\n"
     ]
    }
   ],
   "source": [
    "print('date' in 'datetime')"
   ]
  },
  {
   "cell_type": "code",
   "execution_count": null,
   "id": "c6d1adb1-9479-40d9-9b82-6c4b4a90271e",
   "metadata": {},
   "outputs": [],
   "source": []
  },
  {
   "cell_type": "code",
   "execution_count": null,
   "id": "25f8bb1d-bb0f-4eae-983e-ff243205c035",
   "metadata": {},
   "outputs": [],
   "source": []
  },
  {
   "cell_type": "code",
   "execution_count": null,
   "id": "19e2783f-e02b-4e7a-8260-7853d74c58e2",
   "metadata": {},
   "outputs": [],
   "source": []
  },
  {
   "cell_type": "code",
   "execution_count": null,
   "id": "eb6cfb73-0218-4c6f-9144-893505b55886",
   "metadata": {},
   "outputs": [],
   "source": []
  },
  {
   "cell_type": "code",
   "execution_count": null,
   "id": "38584b4d-9f1e-4dde-b60d-ba0492c6effd",
   "metadata": {},
   "outputs": [],
   "source": []
  }
 ],
 "metadata": {
  "kernelspec": {
   "display_name": "Python 3 (ipykernel)",
   "language": "python",
   "name": "python3"
  },
  "language_info": {
   "codemirror_mode": {
    "name": "ipython",
    "version": 3
   },
   "file_extension": ".py",
   "mimetype": "text/x-python",
   "name": "python",
   "nbconvert_exporter": "python",
   "pygments_lexer": "ipython3",
   "version": "3.9.11"
  }
 },
 "nbformat": 4,
 "nbformat_minor": 5
}
